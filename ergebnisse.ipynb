{
 "cells": [
  {
   "cell_type": "code",
   "execution_count": 4,
   "metadata": {
    "collapsed": true
   },
   "outputs": [
    {
     "ename": "ModuleNotFoundError",
     "evalue": "No module named 'sb3_contrib'",
     "output_type": "error",
     "traceback": [
      "\u001B[1;31m---------------------------------------------------------------------------\u001B[0m",
      "\u001B[1;31mModuleNotFoundError\u001B[0m                       Traceback (most recent call last)",
      "\u001B[1;32m~\\AppData\\Local\\Temp\\ipykernel_11924\\2812439882.py\u001B[0m in \u001B[0;36m<module>\u001B[1;34m\u001B[0m\n\u001B[0;32m      3\u001B[0m \u001B[1;32mimport\u001B[0m \u001B[0mpandas\u001B[0m \u001B[1;32mas\u001B[0m \u001B[0mpd\u001B[0m\u001B[1;33m\u001B[0m\u001B[1;33m\u001B[0m\u001B[0m\n\u001B[0;32m      4\u001B[0m \u001B[1;32mfrom\u001B[0m \u001B[0mgym\u001B[0m \u001B[1;32mimport\u001B[0m \u001B[0mspaces\u001B[0m\u001B[1;33m\u001B[0m\u001B[1;33m\u001B[0m\u001B[0m\n\u001B[1;32m----> 5\u001B[1;33m \u001B[1;32mfrom\u001B[0m \u001B[0msb3_contrib\u001B[0m \u001B[1;32mimport\u001B[0m \u001B[0mTRPO\u001B[0m\u001B[1;33m\u001B[0m\u001B[1;33m\u001B[0m\u001B[0m\n\u001B[0m\u001B[0;32m      6\u001B[0m \u001B[1;32mimport\u001B[0m \u001B[0mseaborn\u001B[0m \u001B[1;32mas\u001B[0m \u001B[0msns\u001B[0m\u001B[1;33m\u001B[0m\u001B[1;33m\u001B[0m\u001B[0m\n\u001B[0;32m      7\u001B[0m \u001B[1;32mimport\u001B[0m \u001B[0mnumpy\u001B[0m \u001B[1;32mas\u001B[0m \u001B[0mnp\u001B[0m\u001B[1;33m\u001B[0m\u001B[1;33m\u001B[0m\u001B[0m\n",
      "\u001B[1;31mModuleNotFoundError\u001B[0m: No module named 'sb3_contrib'"
     ]
    }
   ],
   "source": [
    "import gym\n",
    "import matplotlib.pyplot as plt\n",
    "import pandas as pd\n",
    "from gym import spaces\n",
    "from sb3_contrib import TRPO\n",
    "import seaborn as sns\n",
    "import numpy as np"
   ]
  },
  {
   "cell_type": "code",
   "execution_count": 2,
   "outputs": [],
   "source": [
    "class ObservationRAM(gym.ObservationWrapper):\n",
    "    def __init__(self, env):\n",
    "        super().__init__(env)\n",
    "        # Observation space muss am Anfang festgelegt werden\n",
    "        self.observation_space = spaces.Box(low=0, high=210, shape=(13, ))\n",
    "        self.score = 0\n",
    "        self.hit = 0\n",
    "\n",
    "    def observation(self, obs):\n",
    "        # Die Daten die benutzt werden (y, score, cooldown, auto x pos)\n",
    "        obs = obs[[14, 103, 106, 108, 109, 110, 111, 112, 113, 114, 115, 116, 117]].astype(float)\n",
    "\n",
    "        if obs[2] == 141 or obs[2] == 141:\n",
    "            self.score += 1\n",
    "        obs[1] = self.score\n",
    "\n",
    "        if 90 <= obs[2] <= 100:\n",
    "            self.hit += 1\n",
    "\n",
    "        # normalisieren\n",
    "        obs[0] /= 176\n",
    "        obs[2] /= 142\n",
    "        for i in range(3, 13):\n",
    "            obs[i] /= 160\n",
    "\n",
    "        return obs"
   ],
   "metadata": {
    "collapsed": false
   }
  },
  {
   "cell_type": "markdown",
   "source": [
    "## 50 Spiele mit NN1"
   ],
   "metadata": {
    "collapsed": false
   }
  },
  {
   "cell_type": "code",
   "execution_count": 8,
   "outputs": [
    {
     "name": "stdout",
     "output_type": "stream",
     "text": [
      "Wrapping the env with a `Monitor` wrapper\n",
      "Wrapping the env in a DummyVecEnv.\n"
     ]
    }
   ],
   "source": [
    "env = ObservationRAM(gym.make(\"ALE/Freeway-v5\", obs_type=\"ram\", render_mode=\"rgb_array\", difficulty=1, mode=3))\n",
    "model = TRPO.load(\"models/finished/model_NN1.zip\", env=env)\n",
    "\n",
    "obs = env.reset()\n",
    "\n",
    "best_scores_nn1 = []\n",
    "hits_nn1 = []\n",
    "\n",
    "for _ in range(50):\n",
    "    env = ObservationRAM(gym.make(\"ALE/Freeway-v5\", obs_type=\"ram\", render_mode=\"rgb_array\", difficulty=1, mode=3))\n",
    "\n",
    "    obs = env.reset()\n",
    "    for _ in range(2048):\n",
    "        action, _states = model.predict(obs)\n",
    "        obs, reward, done, info = env.step(action)\n",
    "        #env.render()\n",
    "        #time.sleep(0.00001)/\n",
    "        if done:\n",
    "            obs = env.reset()\n",
    "    hits_nn1.append(env.hit)\n",
    "    best_scores_nn1.append(env.score)"
   ],
   "metadata": {
    "collapsed": false
   }
  },
  {
   "cell_type": "markdown",
   "source": [
    "## 50 Spiele mit NN2"
   ],
   "metadata": {
    "collapsed": false
   }
  },
  {
   "cell_type": "code",
   "execution_count": 6,
   "outputs": [
    {
     "name": "stdout",
     "output_type": "stream",
     "text": [
      "Wrapping the env with a `Monitor` wrapper\n",
      "Wrapping the env in a DummyVecEnv.\n"
     ]
    }
   ],
   "source": [
    "env = ObservationRAM(gym.make(\"ALE/Freeway-v5\", obs_type=\"ram\", render_mode=\"rgb_array\", difficulty=1, mode=3))\n",
    "model = TRPO.load(\"models/finished/model_NN2.zip\", env=env)\n",
    "\n",
    "obs = env.reset()\n",
    "\n",
    "best_scores_nn2 = []\n",
    "hits_nn2 = []\n",
    "\n",
    "for _ in range(50):\n",
    "    env = ObservationRAM(gym.make(\"ALE/Freeway-v5\", obs_type=\"ram\", render_mode=\"rgb_array\", difficulty=1, mode=3))\n",
    "\n",
    "    obs = env.reset()\n",
    "    for _ in range(2048):\n",
    "        action, _states = model.predict(obs)\n",
    "        obs, reward, done, info = env.step(action)\n",
    "        #env.render()\n",
    "        #time.sleep(0.00001)\n",
    "        if done:\n",
    "            obs = env.reset()\n",
    "    hits_nn2.append(env.hit)\n",
    "    best_scores_nn2.append(env.score)"
   ],
   "metadata": {
    "collapsed": false
   }
  },
  {
   "cell_type": "markdown",
   "source": [
    "## 50 Spiele mit NN5\n"
   ],
   "metadata": {
    "collapsed": false
   }
  },
  {
   "cell_type": "code",
   "execution_count": 5,
   "outputs": [
    {
     "name": "stdout",
     "output_type": "stream",
     "text": [
      "Wrapping the env with a `Monitor` wrapper\n",
      "Wrapping the env in a DummyVecEnv.\n"
     ]
    }
   ],
   "source": [
    "env = ObservationRAM(gym.make(\"ALE/Freeway-v5\", obs_type=\"ram\", render_mode=\"rgb_array\", difficulty=1, mode=3))\n",
    "model = TRPO.load(\"models/finished/model_NN5.zip\", env=env)\n",
    "\n",
    "obs = env.reset()\n",
    "\n",
    "best_scores_nn5 = []\n",
    "hits_nn5 = []\n",
    "\n",
    "for _ in range(50):\n",
    "    env = ObservationRAM(gym.make(\"ALE/Freeway-v5\", obs_type=\"ram\", render_mode=\"rgb_array\", difficulty=1, mode=3))\n",
    "\n",
    "    obs = env.reset()\n",
    "    for _ in range(2048):\n",
    "        action, _states = model.predict(obs)\n",
    "        obs, reward, done, info = env.step(action)\n",
    "        #env.render()\n",
    "        #time.sleep(0.00001)\n",
    "        if done:\n",
    "            obs = env.reset()\n",
    "    hits_nn5.append(env.hit)\n",
    "    best_scores_nn5.append(env.score)"
   ],
   "metadata": {
    "collapsed": false
   }
  },
  {
   "cell_type": "markdown",
   "source": [],
   "metadata": {
    "collapsed": false
   }
  },
  {
   "cell_type": "markdown",
   "source": [
    "## 50 Spiele nur hoch laufen"
   ],
   "metadata": {
    "collapsed": false
   }
  },
  {
   "cell_type": "code",
   "execution_count": 7,
   "outputs": [],
   "source": [
    "env = ObservationRAM(gym.make(\"ALE/Freeway-v5\", obs_type=\"ram\", render_mode=\"rgb_array\", difficulty=1, mode=3))\n",
    "\n",
    "obs = env.reset()\n",
    "\n",
    "best_scores_1 = []\n",
    "hits_1 = []\n",
    "\n",
    "for _ in range(50):\n",
    "    env = ObservationRAM(gym.make(\"ALE/Freeway-v5\", obs_type=\"ram\", render_mode=\"rgb_array\", difficulty=1, mode=3))\n",
    "\n",
    "    obs = env.reset()\n",
    "    for _ in range(2048):\n",
    "        obs, reward, done, info = env.step(1)\n",
    "        #env.render()\n",
    "        #time.sleep(0.00001)\n",
    "        if done:\n",
    "            obs = env.reset()\n",
    "    hits_1.append(env.hit)\n",
    "    best_scores_1.append(env.score)"
   ],
   "metadata": {
    "collapsed": false
   }
  },
  {
   "cell_type": "code",
   "execution_count": 15,
   "outputs": [
    {
     "data": {
      "text/plain": "<Figure size 640x480 with 1 Axes>",
      "image/png": "[encoded data removed]"
     },
     "metadata": {},
     "output_type": "display_data"
    },
    {
     "data": {
      "text/plain": "<Figure size 640x480 with 1 Axes>",
      "image/png": "[encoded data removed]"
     },
     "metadata": {},
     "output_type": "display_data"
    },
    {
     "data": {
      "text/plain": "<Figure size 640x480 with 1 Axes>",
      "image/png": "[encoded data removed]"
     },
     "metadata": {},
     "output_type": "display_data"
    },
    {
     "data": {
      "text/plain": "<Figure size 640x480 with 1 Axes>",
      "image/png": "[encoded data removed]"
     },
     "metadata": {},
     "output_type": "display_data"
    }
   ],
   "source": [
    "df_score = pd.DataFrame({\n",
    "    \"1 NN\": best_scores_nn1,\n",
    "    \"2 NN\": best_scores_nn2,\n",
    "    \"5 NN\": best_scores_nn5,\n",
    "    \"Nur hoch\": best_scores_1,\n",
    "})\n",
    "\n",
    "df_hit = pd.DataFrame({\n",
    "    \"1 NN\": hits_nn1,\n",
    "    \"2 NN\": hits_nn2,\n",
    "    \"5 NN\": hits_nn5,\n",
    "    \"Nur hoch\": hits_1,\n",
    "})\n",
    "\n",
    "sns.boxplot(df_score)\n",
    "plt.title(\"Scores\")\n",
    "plt.ylabel(\"score\")\n",
    "plt.show()\n",
    "sns.boxplot(df_hit)\n",
    "plt.title(\"Hit by car\")\n",
    "plt.ylabel(\"times hit\")\n",
    "plt.show()\n",
    "sns.barplot(df_score)\n",
    "plt.title(\"Scores\")\n",
    "plt.ylabel(\"score\")\n",
    "plt.show()\n",
    "sns.barplot(df_hit)\n",
    "plt.title(\"Hit by car\")\n",
    "plt.ylabel(\"times hit\")\n",
    "plt.show()"
   ],
   "metadata": {
    "collapsed": false
   }
  },
  {
   "cell_type": "code",
   "execution_count": 17,
   "outputs": [
    {
     "name": "stdout",
     "output_type": "stream",
     "text": [
      "4\n",
      "6\n",
      "4.92\n"
     ]
    }
   ],
   "source": [
    "print(min(best_scores_nn1))\n",
    "print(max(best_scores_nn1))\n",
    "print(np.array(best_scores_nn1).mean())"
   ],
   "metadata": {
    "collapsed": false
   }
  },
  {
   "cell_type": "code",
   "execution_count": 18,
   "outputs": [
    {
     "name": "stdout",
     "output_type": "stream",
     "text": [
      "10\n",
      "12\n",
      "11.22\n"
     ]
    }
   ],
   "source": [
    "print(min(best_scores_nn2))\n",
    "print(max(best_scores_nn2))\n",
    "print(np.array(best_scores_nn2).mean())"
   ],
   "metadata": {
    "collapsed": false
   }
  },
  {
   "cell_type": "code",
   "execution_count": 19,
   "outputs": [
    {
     "name": "stdout",
     "output_type": "stream",
     "text": [
      "11\n",
      "12\n",
      "11.98\n"
     ]
    }
   ],
   "source": [
    "print(min(best_scores_nn5))\n",
    "print(max(best_scores_nn5))\n",
    "print(np.array(best_scores_nn5).mean())"
   ],
   "metadata": {
    "collapsed": false
   }
  }
 ],
 "metadata": {
  "kernelspec": {
   "display_name": "Python 3",
   "language": "python",
   "name": "python3"
  },
  "language_info": {
   "codemirror_mode": {
    "name": "ipython",
    "version": 2
   },
   "file_extension": ".py",
   "mimetype": "text/x-python",
   "name": "python",
   "nbconvert_exporter": "python",
   "pygments_lexer": "ipython2",
   "version": "2.7.6"
  }
 },
 "nbformat": 4,
 "nbformat_minor": 0
}
